{
 "cells": [
  {
   "cell_type": "code",
   "execution_count": 114,
   "metadata": {},
   "outputs": [],
   "source": [
    "import pandas as pd\n",
    "import jieba"
   ]
  },
  {
   "cell_type": "code",
   "execution_count": 2,
   "metadata": {},
   "outputs": [
    {
     "data": {
      "text/html": [
       "<div>\n",
       "<style scoped>\n",
       "    .dataframe tbody tr th:only-of-type {\n",
       "        vertical-align: middle;\n",
       "    }\n",
       "\n",
       "    .dataframe tbody tr th {\n",
       "        vertical-align: top;\n",
       "    }\n",
       "\n",
       "    .dataframe thead th {\n",
       "        text-align: right;\n",
       "    }\n",
       "</style>\n",
       "<table border=\"1\" class=\"dataframe\">\n",
       "  <thead>\n",
       "    <tr style=\"text-align: right;\">\n",
       "      <th></th>\n",
       "      <th>SJBXX01</th>\n",
       "      <th>SJBXX02</th>\n",
       "      <th>PYM</th>\n",
       "      <th>SZM</th>\n",
       "      <th>WBM</th>\n",
       "    </tr>\n",
       "  </thead>\n",
       "  <tbody>\n",
       "    <tr>\n",
       "      <th>0</th>\n",
       "      <td>A00.000</td>\n",
       "      <td>霍乱，由于O1群霍乱弧菌，霍乱生物型所致</td>\n",
       "      <td>HLYYO1QHLHJHLSWXSZ</td>\n",
       "      <td>1321O1513511333131</td>\n",
       "      <td>FTMGO1VFTXAFTTTGRG</td>\n",
       "    </tr>\n",
       "    <tr>\n",
       "      <th>1</th>\n",
       "      <td>A00.100</td>\n",
       "      <td>霍乱，由于O1群霍乱弧菌，埃尔托生物型所致</td>\n",
       "      <td>HLYYO1QHLHJAETSWXSZ</td>\n",
       "      <td>1321O15135113133131</td>\n",
       "      <td>FTMGO1VFTXAFQRTTGRG</td>\n",
       "    </tr>\n",
       "    <tr>\n",
       "      <th>2</th>\n",
       "      <td>A00.900</td>\n",
       "      <td>霍乱</td>\n",
       "      <td>HL</td>\n",
       "      <td>13</td>\n",
       "      <td>FT</td>\n",
       "    </tr>\n",
       "    <tr>\n",
       "      <th>3</th>\n",
       "      <td>A01.000</td>\n",
       "      <td>伤寒</td>\n",
       "      <td>SH</td>\n",
       "      <td>34</td>\n",
       "      <td>WP</td>\n",
       "    </tr>\n",
       "    <tr>\n",
       "      <th>4</th>\n",
       "      <td>A01.001+K77.0*</td>\n",
       "      <td>伤寒性肝炎</td>\n",
       "      <td>SHXGY</td>\n",
       "      <td>34234</td>\n",
       "      <td>WPNEO</td>\n",
       "    </tr>\n",
       "  </tbody>\n",
       "</table>\n",
       "</div>"
      ],
      "text/plain": [
       "          SJBXX01                SJBXX02                  PYM  \\\n",
       "0         A00.000   霍乱，由于O1群霍乱弧菌，霍乱生物型所致   HLYYO1QHLHJHLSWXSZ   \n",
       "1         A00.100  霍乱，由于O1群霍乱弧菌，埃尔托生物型所致  HLYYO1QHLHJAETSWXSZ   \n",
       "2         A00.900                     霍乱                   HL   \n",
       "3         A01.000                     伤寒                   SH   \n",
       "4  A01.001+K77.0*                  伤寒性肝炎                SHXGY   \n",
       "\n",
       "                   SZM                  WBM  \n",
       "0   1321O1513511333131   FTMGO1VFTXAFTTTGRG  \n",
       "1  1321O15135113133131  FTMGO1VFTXAFQRTTGRG  \n",
       "2                   13                   FT  \n",
       "3                   34                   WP  \n",
       "4                34234                WPNEO  "
      ]
     },
     "execution_count": 2,
     "metadata": {},
     "output_type": "execute_result"
    }
   ],
   "source": [
    "dz_df = pd.read_csv(u'GBT14396-2016.csv')\n",
    "dz_df.head()"
   ]
  },
  {
   "cell_type": "code",
   "execution_count": 4,
   "metadata": {},
   "outputs": [
    {
     "data": {
      "text/html": [
       "<div>\n",
       "<style scoped>\n",
       "    .dataframe tbody tr th:only-of-type {\n",
       "        vertical-align: middle;\n",
       "    }\n",
       "\n",
       "    .dataframe tbody tr th {\n",
       "        vertical-align: top;\n",
       "    }\n",
       "\n",
       "    .dataframe thead th {\n",
       "        text-align: right;\n",
       "    }\n",
       "</style>\n",
       "<table border=\"1\" class=\"dataframe\">\n",
       "  <thead>\n",
       "    <tr style=\"text-align: right;\">\n",
       "      <th></th>\n",
       "      <th>SJBXX01</th>\n",
       "      <th>SJBXX02</th>\n",
       "      <th>PYM</th>\n",
       "      <th>SZM</th>\n",
       "      <th>WBM</th>\n",
       "      <th>class</th>\n",
       "    </tr>\n",
       "  </thead>\n",
       "  <tbody>\n",
       "    <tr>\n",
       "      <th>0</th>\n",
       "      <td>A00.000</td>\n",
       "      <td>霍乱，由于O1群霍乱弧菌，霍乱生物型所致</td>\n",
       "      <td>HLYYO1QHLHJHLSWXSZ</td>\n",
       "      <td>1321O1513511333131</td>\n",
       "      <td>FTMGO1VFTXAFTTTGRG</td>\n",
       "      <td>A00</td>\n",
       "    </tr>\n",
       "    <tr>\n",
       "      <th>1</th>\n",
       "      <td>A00.100</td>\n",
       "      <td>霍乱，由于O1群霍乱弧菌，埃尔托生物型所致</td>\n",
       "      <td>HLYYO1QHLHJAETSWXSZ</td>\n",
       "      <td>1321O15135113133131</td>\n",
       "      <td>FTMGO1VFTXAFQRTTGRG</td>\n",
       "      <td>A00</td>\n",
       "    </tr>\n",
       "    <tr>\n",
       "      <th>2</th>\n",
       "      <td>A00.900</td>\n",
       "      <td>霍乱</td>\n",
       "      <td>HL</td>\n",
       "      <td>13</td>\n",
       "      <td>FT</td>\n",
       "      <td>A00</td>\n",
       "    </tr>\n",
       "    <tr>\n",
       "      <th>3</th>\n",
       "      <td>A01.000</td>\n",
       "      <td>伤寒</td>\n",
       "      <td>SH</td>\n",
       "      <td>34</td>\n",
       "      <td>WP</td>\n",
       "      <td>A01</td>\n",
       "    </tr>\n",
       "    <tr>\n",
       "      <th>4</th>\n",
       "      <td>A01.001+K77.0*</td>\n",
       "      <td>伤寒性肝炎</td>\n",
       "      <td>SHXGY</td>\n",
       "      <td>34234</td>\n",
       "      <td>WPNEO</td>\n",
       "      <td>A01</td>\n",
       "    </tr>\n",
       "  </tbody>\n",
       "</table>\n",
       "</div>"
      ],
      "text/plain": [
       "          SJBXX01                SJBXX02                  PYM  \\\n",
       "0         A00.000   霍乱，由于O1群霍乱弧菌，霍乱生物型所致   HLYYO1QHLHJHLSWXSZ   \n",
       "1         A00.100  霍乱，由于O1群霍乱弧菌，埃尔托生物型所致  HLYYO1QHLHJAETSWXSZ   \n",
       "2         A00.900                     霍乱                   HL   \n",
       "3         A01.000                     伤寒                   SH   \n",
       "4  A01.001+K77.0*                  伤寒性肝炎                SHXGY   \n",
       "\n",
       "                   SZM                  WBM class  \n",
       "0   1321O1513511333131   FTMGO1VFTXAFTTTGRG   A00  \n",
       "1  1321O15135113133131  FTMGO1VFTXAFQRTTGRG   A00  \n",
       "2                   13                   FT   A00  \n",
       "3                   34                   WP   A01  \n",
       "4                34234                WPNEO   A01  "
      ]
     },
     "execution_count": 4,
     "metadata": {},
     "output_type": "execute_result"
    }
   ],
   "source": [
    "dz_df['class'] = [i[:3] for i in dz_df['SJBXX01']]\n",
    "dz_df.head()"
   ]
  },
  {
   "cell_type": "code",
   "execution_count": 12,
   "metadata": {},
   "outputs": [
    {
     "data": {
      "text/html": [
       "<div>\n",
       "<style scoped>\n",
       "    .dataframe tbody tr th:only-of-type {\n",
       "        vertical-align: middle;\n",
       "    }\n",
       "\n",
       "    .dataframe tbody tr th {\n",
       "        vertical-align: top;\n",
       "    }\n",
       "\n",
       "    .dataframe thead th {\n",
       "        text-align: right;\n",
       "    }\n",
       "</style>\n",
       "<table border=\"1\" class=\"dataframe\">\n",
       "  <thead>\n",
       "    <tr style=\"text-align: right;\">\n",
       "      <th></th>\n",
       "      <th>class</th>\n",
       "      <th>name</th>\n",
       "    </tr>\n",
       "  </thead>\n",
       "  <tbody>\n",
       "    <tr>\n",
       "      <th>0</th>\n",
       "      <td>A00</td>\n",
       "      <td>霍乱，由于O1群霍乱弧菌，霍乱生物型所致</td>\n",
       "    </tr>\n",
       "    <tr>\n",
       "      <th>1</th>\n",
       "      <td>A00</td>\n",
       "      <td>霍乱，由于O1群霍乱弧菌，埃尔托生物型所致</td>\n",
       "    </tr>\n",
       "    <tr>\n",
       "      <th>2</th>\n",
       "      <td>A00</td>\n",
       "      <td>霍乱</td>\n",
       "    </tr>\n",
       "    <tr>\n",
       "      <th>3</th>\n",
       "      <td>A01</td>\n",
       "      <td>伤寒</td>\n",
       "    </tr>\n",
       "    <tr>\n",
       "      <th>4</th>\n",
       "      <td>A01</td>\n",
       "      <td>伤寒性肝炎</td>\n",
       "    </tr>\n",
       "  </tbody>\n",
       "</table>\n",
       "</div>"
      ],
      "text/plain": [
       "  class                   name\n",
       "0   A00   霍乱，由于O1群霍乱弧菌，霍乱生物型所致\n",
       "1   A00  霍乱，由于O1群霍乱弧菌，埃尔托生物型所致\n",
       "2   A00                     霍乱\n",
       "3   A01                     伤寒\n",
       "4   A01                  伤寒性肝炎"
      ]
     },
     "execution_count": 12,
     "metadata": {},
     "output_type": "execute_result"
    }
   ],
   "source": [
    "dzclass_df = pd.DataFrame(dz_df[['class', 'SJBXX02']].values,columns=['class','name'])\n",
    "dzclass_df.head()"
   ]
  },
  {
   "cell_type": "code",
   "execution_count": 109,
   "metadata": {},
   "outputs": [],
   "source": [
    "g = dzclass_df.groupby('class')\n",
    "nitems_eachclass = g.size().values\n",
    "# nitems_eachclass\n",
    "# print(g.size())"
   ]
  },
  {
   "cell_type": "code",
   "execution_count": 46,
   "metadata": {},
   "outputs": [
    {
     "name": "stdout",
     "output_type": "stream",
     "text": [
      "疾病共  2047 类\n"
     ]
    }
   ],
   "source": [
    "classset = set(dzclass_df['class'].values)\n",
    "print('疾病共 % d 类' % len(classset))"
   ]
  },
  {
   "cell_type": "code",
   "execution_count": 108,
   "metadata": {},
   "outputs": [],
   "source": [
    "classlist = sorted(list(classset))\n",
    "# print(classlist)"
   ]
  },
  {
   "cell_type": "code",
   "execution_count": 115,
   "metadata": {},
   "outputs": [],
   "source": [
    "# strlist = []\n",
    "# for index in classlist:\n",
    "#     localstrlist = dzclass_df['name'][dzclass_df['class']==index].values\n",
    "#     tempstr = ''\n",
    "#     for s in localstrlist:\n",
    "#         tempstr += s\n",
    "#     strlist.append(tempstr)\n",
    "# print(strlist)\n",
    "# print(len(strlist))"
   ]
  },
  {
   "cell_type": "code",
   "execution_count": 116,
   "metadata": {},
   "outputs": [
    {
     "name": "stdout",
     "output_type": "stream",
     "text": [
      "2047\n"
     ]
    }
   ],
   "source": [
    "print(len(classlist))\n",
    "dzclass_df = dzclass_df.sort_values(by=['class'])  \n",
    "# 因为之前对class 进行了排序,得到的nitems_eachclass是class排序后的对应结果, 所以这里要对dzclass_df重新排序\n",
    "# dzclass_df"
   ]
  },
  {
   "cell_type": "code",
   "execution_count": 113,
   "metadata": {},
   "outputs": [
    {
     "name": "stdout",
     "output_type": "stream",
     "text": [
      "2047\n"
     ]
    }
   ],
   "source": [
    "'''较为快速的实现, 比上个版本快5倍'''\n",
    "strlist = []\n",
    "start_index = 0\n",
    "for index in nitems_eachclass:\n",
    "    localstrlist = dzclass_df['name'][start_index:start_index+index].values\n",
    "    tempstr = ''\n",
    "#     print(localstrlist)\n",
    "    for s in localstrlist:\n",
    "        tempstr += ' ' + s\n",
    "    strlist.append(tempstr.strip())\n",
    "    start_index += index\n",
    "# print(strlist)\n",
    "print(len(strlist))"
   ]
  },
  {
   "cell_type": "code",
   "execution_count": 118,
   "metadata": {},
   "outputs": [
    {
     "data": {
      "text/plain": [
       "'霍乱，由于O1群霍乱弧菌，霍乱生物型所致 霍乱，由于O1群霍乱弧菌，埃尔托生物型所致 霍乱'"
      ]
     },
     "execution_count": 118,
     "metadata": {},
     "output_type": "execute_result"
    }
   ],
   "source": [
    "strlist[0]"
   ]
  },
  {
   "cell_type": "code",
   "execution_count": 124,
   "metadata": {},
   "outputs": [
    {
     "name": "stdout",
     "output_type": "stream",
     "text": [
      "Counter({'霍乱': 4, '由于': 2, 'O1': 2, '霍乱弧菌': 2, '生物': 2, '所致': 2, '埃尔托': 1})\n"
     ]
    }
   ],
   "source": [
    "from collections import Counter\n",
    "seg_list = jieba.cut(strlist[0])\n",
    "c = Counter()\n",
    "for x in seg_list:\n",
    "#     print(x)\n",
    "    if len(x)>1 and x != '\\r\\n':  # 除去单字符以及换行(\\r把光标移动到行首)\n",
    "        c[x] += 1\n",
    "print(c)"
   ]
  }
 ],
 "metadata": {
  "kernelspec": {
   "display_name": "Python 3",
   "language": "python",
   "name": "python3"
  },
  "language_info": {
   "codemirror_mode": {
    "name": "ipython",
    "version": 3
   },
   "file_extension": ".py",
   "mimetype": "text/x-python",
   "name": "python",
   "nbconvert_exporter": "python",
   "pygments_lexer": "ipython3",
   "version": "3.6.6"
  }
 },
 "nbformat": 4,
 "nbformat_minor": 2
}
